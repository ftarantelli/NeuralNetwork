{
 "cells": [
  {
   "cell_type": "code",
   "execution_count": 23,
   "id": "7d036464",
   "metadata": {},
   "outputs": [],
   "source": [
    "import tensorflow as tf\n",
    "import tensorflow_probability as tfp\n",
    "import matplotlib.pyplot as plt\n",
    "import numpy as np\n",
    "import math\n",
    "import sys"
   ]
  },
  {
   "cell_type": "code",
   "execution_count": 24,
   "id": "cedfb0bd",
   "metadata": {},
   "outputs": [],
   "source": [
    "# Initialization of weights and bias with a normal distribution\n",
    "def initialization(input_size_, hidden_size_, Mu_, STD_, nl):\n",
    "    bname = 'b{}'.format(nl)\n",
    "    Wname = 'W{}'.format(nl)\n",
    "    WR = tf.Variable(tf.random.normal([input_size_, hidden_size_], mean=Mu_, stddev=STD_), name=Wname)\n",
    "    BR = tf.Variable(tf.random.normal([hidden_size_], mean=Mu_, stddev=STD_), name=bname)\n",
    "    return WR,BR\n",
    "\n",
    "# Define the forward function to compute the output of the neural network\n",
    "def forward(X, i, activation, depth_):\n",
    "    with tf.GradientTape() as tape:\n",
    "        tape.watch([param for param in [Ws[i, j] for j in range(depth_)] + [Bs[i, j] for j in range(depth_)]])\n",
    "        \n",
    "        A = X\n",
    "        for j in range(depth_):\n",
    "            Z = tf.add(tf.matmul(A, sigma_w/lsizes[j]**0.5*Ws[i, j]), sigma_b*Bs[i, j])\n",
    "            A = activation(Z)\n",
    "            \n",
    "        Z_last = Z\n",
    "    \n",
    "        gradients = tape.gradient(Z_last, [Ws[i, j] for j in range(depth_)] + [Bs[i, j] for j in range(depth_)])\n",
    "    return Z_last, gradients\n",
    "\n",
    "\n",
    "def bootobj_extr(layer_, el1_, el2_):\n",
    "    A = np.zeros(Nboot)\n",
    "    B = np.zeros(Nboot)\n",
    "    for i in range(Nboot):\n",
    "        matrW = Ws[i, layer_]\n",
    "        A[i] = matrW[el1_, el2_]\n",
    "        vecB = Bs[i,layer_]\n",
    "        B[i] = vecB[el1_]\n",
    "    return A,B\n",
    "\n",
    "#Chosen law for the test of the NN\n",
    "def data_law(x_):\n",
    "    return np.sin(np.squeeze(x_))\n",
    "\n",
    "#Bootstrap Mean and Sigma\n",
    "def mean(arr):\n",
    "    return sum(arr)/len(arr)\n",
    "def std_dev(arr):\n",
    "    arr_mean = mean(arr)\n",
    "    return (sum([(i - arr_mean)**2 for i in arr]) / (len(arr)-1))**0.5"
   ]
  },
  {
   "cell_type": "code",
   "execution_count": 25,
   "id": "99c3d703",
   "metadata": {},
   "outputs": [
    {
     "name": "stdout",
     "output_type": "stream",
     "text": [
      "The structure of the NN is:  [1 3 3 3 1]\n",
      "The number of parameters is:  34\n",
      "The number of initializations is:  100\n",
      "The number of input quantities is:  2\n",
      "The dimensions of the training and test data matrix are respectively (Nin, Nboot):  (2, 100) (2, 100)\n",
      "The dimensions of the training gradient and test are respectively (Nin, Nboot, Lpar):  (2, 100, 34) (2, 100, 34)\n"
     ]
    }
   ],
   "source": [
    "# Define the dimensions of the NN\n",
    "input_size = 1\n",
    "hidden_size = 3\n",
    "output_size = 1\n",
    "depth = 4 #the depth also contains the output layer\n",
    "Nboot = 100\n",
    "\n",
    "lsizes = np.concatenate(([input_size], np.repeat(hidden_size, depth-1), [output_size]))\n",
    "print('The structure of the NN is: ',lsizes)\n",
    "\n",
    "Lpar = input_size*hidden_size + (depth-2)*hidden_size**2 + (depth-1)*hidden_size + hidden_size*output_size + output_size\n",
    "\n",
    "print('The number of parameters is: ',Lpar)\n",
    "print('The number of initializations is: ',Nboot)\n",
    "\n",
    "# Define the net parameters\n",
    "sigma_b = 1.\n",
    "sigma_w = 1.\n",
    "\n",
    "#Define parameters of the Gaussian distribution\n",
    "STD = 0.08\n",
    "Mu = 0.5\n",
    "\n",
    "\n",
    "#Weights and biases generation\n",
    "Ws = np.empty((Nboot, depth), dtype=object)  \n",
    "Bs = np.empty((Nboot, depth), dtype=object)\n",
    "for i in range(Nboot):\n",
    "    for l in range(depth):\n",
    "        Ws[i, l], Bs[i, l] = initialization(lsizes[l], lsizes[l+1], Mu, STD, l)\n",
    "    \n",
    "# Input quantities\n",
    "Nin = 2\n",
    "X = tf.random.uniform(shape=(Nin,1,1), minval=1, maxval=200, dtype=tf.float32)\n",
    "xtest = tf.random.uniform(shape=(Nin,1,1), minval=1, maxval=200, dtype=tf.float32)\n",
    "    \n",
    "print('The number of input quantities is: ', Nin)\n",
    "    \n",
    "# We compute the output for each event for an input\n",
    "output_array = []\n",
    "output_array_test = []\n",
    "grads_array = np.array([])\n",
    "grads_array_test = np.array([])    \n",
    "for k in range(Nin):\n",
    "    for i in range (0, Nboot):\n",
    "        \n",
    "        Y, Grad = forward(X[k],i,tf.nn.relu, depth)\n",
    "        Y_test, Grad_test = forward(xtest[k],i,tf.nn.relu, depth)\n",
    "        output_array.append(Y.numpy()[0][0])\n",
    "        output_array_test.append(Y_test.numpy()[0][0])\n",
    "        \n",
    "        # Flattening e concatenation of derivatives for training and test\n",
    "        grads_np = np.concatenate([g.numpy().flatten() for g in Grad])  \n",
    "        grads_test_np = np.concatenate([g.numpy().flatten() for g in Grad_test])  \n",
    "        grads_array = np.vstack([grads_array, grads_np]) if grads_array.size else grads_np\n",
    "        grads_array_test = np.vstack([grads_array_test, grads_test_np]) if grads_array_test.size else grads_test_np \n",
    "\n",
    "\n",
    "output_array = np.array(output_array).reshape((Nin,Nboot))\n",
    "output_array_test =  np.array(output_array_test).reshape((Nin,Nboot))\n",
    "grads_array = grads_array.reshape((Nin,Nboot,int(grads_array[0,:].shape[0]))) \n",
    "grads_array_test = grads_array_test.reshape((Nin,Nboot,int(grads_array_test[0,:].shape[0]))) \n",
    "\n",
    "print('The dimensions of the training and test data matrix are respectively (Nin, Nboot): ', output_array.shape, output_array.shape)\n",
    "print('The dimensions of the training gradient and test are respectively (Nin, Nboot, Lpar): ', grads_array.shape, grads_array_test.shape)"
   ]
  },
  {
   "cell_type": "markdown",
   "id": "bc5ad3dc",
   "metadata": {},
   "source": [
    "### Experiment with Dense Neural Network\n",
    "\n",
    "Construct a neural network which simulates the interpolate function $x(\\alpha) = \\alpha x^{(1)} + (1-\\alpha) x^{(2)}$; then, we average the results under 100 NNs"
   ]
  },
  {
   "cell_type": "code",
   "execution_count": 26,
   "id": "c0c1221b",
   "metadata": {},
   "outputs": [],
   "source": [
    "from tqdm import tqdm\n",
    "Nin = 100\n",
    "Nout = 100\n",
    "\n",
    "xx1 = tf.constant(-1., shape=(Nin, 1, 1), dtype=tf.float32)\n",
    "xx2 = tf.constant(1., shape=(Nin, 1, 1), dtype=tf.float32)\n",
    "\n",
    "def interp(_alpha):\n",
    "    condition1 = tf.logical_and(_alpha <= 1, _alpha >= 0)\n",
    "    condition2 = _alpha > 1\n",
    "    condition3 = _alpha < 0\n",
    "    \n",
    "    result = tf.where(condition1, _alpha * xx1 + (1 - _alpha) * xx2, tf.where(condition2, xx1, xx2))\n",
    "    return result\n",
    "\n",
    "alpha_out = tf.random.uniform(shape=(Nout,1,1), minval=-2, maxval=3, dtype=tf.float32)\n",
    "\n",
    "#print(x_train)\n",
    "#sys.exit()\n",
    "\n",
    "sigma_w = np.sqrt(1.5)\n",
    "sigma_b = 1.\n",
    "Mu = 0.\n",
    "STD = 1.\n",
    "Nboot = 10\n",
    "depth = 3\n",
    "input_size = 1\n",
    "hidden_size = 32\n",
    "output_size = 1\n",
    "eta = 0.5\n",
    "\n",
    "\n",
    "# Numb of train epochs\n",
    "num_epochs = 1000\n",
    "\n",
    "lsizes = np.concatenate(([input_size], np.repeat(hidden_size, depth-1), [output_size]))\n",
    "#print(lsizes)\n",
    "\n",
    "#loss_fun = tf.losses.mean_squared_error()\n",
    "\n",
    "# obser_sum = [mean output net, dev_std output net, loss]\n",
    "obser_sum = np.ndarray(shape=(num_epochs, 3, Nout, Nboot), dtype=float, buffer=np.zeros((num_epochs, 3, Nout, Nboot)))"
   ]
  },
  {
   "cell_type": "code",
   "execution_count": 27,
   "id": "8db4fc40",
   "metadata": {},
   "outputs": [
    {
     "name": "stderr",
     "output_type": "stream",
     "text": [
      "Progress: 100%|█████████████████████████████████████████████████████| 10/10 [01:11<00:00,  7.18s/it]\n"
     ]
    }
   ],
   "source": [
    "for i in tqdm(range(Nboot), desc=\"Progress\", ncols=100):\n",
    "    \n",
    "    alpha_train = tf.random.uniform(shape=(Nin,1,1), minval=-2, maxval=3, dtype=tf.float32)\n",
    "    #alpha_train = tf.constant([[[0]], [[1]]], shape=(2, 1, 1), dtype=tf.float32)\n",
    "    x_train = interp(alpha_train)\n",
    "    \n",
    "    for l in range(depth):\n",
    "        Ws[i, l], Bs[i, l] = initialization(lsizes[l], lsizes[l+1], Mu, STD / lsizes[l]**0.5, l)\n",
    "        #print(l, Ws[i,l].shape)\n",
    "\n",
    "    # Optimizer definition \n",
    "    optimizer = tf.keras.optimizers.Adam()\n",
    "\n",
    "    # Train function\n",
    "    @tf.function\n",
    "    def train_step(X, Y):\n",
    "        with tf.GradientTape() as tape:\n",
    "            Z, gradients = forward(X, i, tf.nn.tanh, depth)\n",
    "            loss = tf.losses.mean_squared_error(Z, x_train)  # Define loss func using Z and x_train\n",
    "\n",
    "        variables = [param for param in [Ws[i, j] for j in range(depth)] + [Bs[i, j] for j in range(depth)]]\n",
    "        gradients = tape.gradient(loss, variables)\n",
    "        #eta_tf = tf.fill(tf.shape(gradients), eta)\n",
    "        gradients2 = [gradients[i]*eta for i in range(len(gradients))] \n",
    "        #gradients_yy = tf.multiply(eta, gradients)\n",
    "        optimizer.apply_gradients(zip(gradients2, variables))\n",
    "\n",
    "        return Z, loss\n",
    "\n",
    "    # Train cycle\n",
    "    for epoch in range(num_epochs):\n",
    "        Z, loss = train_step(alpha_train, x_train)\n",
    "        loss_value = tf.reduce_mean(loss)\n",
    "        \n",
    "        Z, _ = forward(alpha_out, i, tf.nn.tanh, depth)\n",
    "        Z2 = tf.square(Z)\n",
    "        #print(Z.numpy())\n",
    "        obser_sum[epoch, 0, :, i] = np.reshape(Z.numpy(), (Nout,) )\n",
    "        obser_sum[epoch, 1, :, i] = np.reshape(Z2.numpy(), (Nout,) )\n",
    "        #obser_sum[epoch, 2, :, i] = np.reshape(loss.numpy(), (Nout,) )\n",
    "alpha_np = alpha_train.numpy()"
   ]
  },
  {
   "cell_type": "code",
   "execution_count": 28,
   "id": "1d189536",
   "metadata": {},
   "outputs": [
    {
     "data": {
      "image/png": "[encoded data removed]",
      "text/plain": [
       "<Figure size 640x480 with 1 Axes>"
      ]
     },
     "metadata": {},
     "output_type": "display_data"
    }
   ],
   "source": [
    "xx1 = tf.constant(-1., shape=(Nout, 1, 1), dtype=tf.float32)\n",
    "xx2 = tf.constant(1., shape=(Nout, 1, 1), dtype=tf.float32)\n",
    "\n",
    "alpha_np = alpha_out.numpy()\n",
    "alpha_np = np.reshape(alpha_out, (Nout,))\n",
    "\n",
    "x_np = interp(alpha_out)\n",
    "x_np = np.reshape(x_np.numpy(), (Nout,))\n",
    "epoch_fix = 999\n",
    "\n",
    "y = np.array([0.]*len(alpha_np))\n",
    "erry = np.array([0.]*len(alpha_np))\n",
    "\n",
    "for i in range(len(alpha_np)):\n",
    "    y[i] = mean(obser_sum[epoch_fix, 0, i, :])\n",
    "    erry[i] = np.sqrt(mean(obser_sum[epoch_fix, 1, i, :]) - y[i]**2.)#std_dev(Nboot*obser_sum[epoch_fix, 0, i, :])\n",
    "\n",
    "#print(erry)\n",
    "\n",
    "#print(mean(obser_sum[epoch_fix, 0, 0, :]), std_dev(obser_sum[epoch_fix, 0, 0, :])*Nboot**0.5, (mean(obser_sum[epoch_fix, 1, 0, :]) - mean(obser_sum[epoch_fix, 0, 0, :])**2.)**0.5)\n",
    "\n",
    "#err = np.sqrt(obser_sum[epoch_fix, 1, :] - obser_sum[epoch_fix, 0, :]**2.)\n",
    "#print(alpha_np[0:5], x_np[0:5], obser_sum[400, 0, 0:5], obser_sum[400, 2, 0:5])\n",
    "plt.errorbar(alpha_np, y, yerr=2.*erry, fmt = '.', capsize=1)\n",
    "plt.errorbar(alpha_np, x_np, fmt = '.', capsize=1)\n",
    "plt.errorbar(np.reshape(alpha_train.numpy(), (Nin, )), np.reshape(x_train.numpy(), (Nin,)), fmt = 'o', capsize=30)\n",
    "plt.show()\n",
    "\n",
    "# PUT THE BIAS AT ZERO AND CHANGE THE DEV_STD\n"
   ]
  },
  {
   "cell_type": "markdown",
   "id": "b2bda32a",
   "metadata": {},
   "source": [
    "# Neural Tangent Kernel (NTK)"
   ]
  },
  {
   "cell_type": "markdown",
   "id": "4d480178",
   "metadata": {},
   "source": [
    "#### Definition of the ${\\cal T}$ and $\\dot{\\cal T}$\n",
    "\n",
    "For the activation function $\\phi = {\\rm erf}$, we have:"
   ]
  },
  {
   "cell_type": "code",
   "execution_count": 29,
   "id": "25b821ef",
   "metadata": {},
   "outputs": [],
   "source": [
    "from scipy.linalg import fractional_matrix_power\n",
    "'''\n",
    "def Sigma(arr1, arr2):\n",
    "    Sigma = np.ndarray(shape = (2,2))\n",
    "    Sigma[0,0] = np.dot(arr1,arr1)\n",
    "    Sigma[0,1] = np.dot(arr1,arr2)\n",
    "    Sigma[1,0] = Sigma[0,1]\n",
    "    Sigma[1,1] = np.dot(arr2,arr2)\n",
    "    return Sigma\n",
    "\n",
    "def calT(Sigma):\n",
    "    #calTp = 4./ np.pi / np.sqrt(np.linalg.det(eye(2) + 2*Sigma))\n",
    "    calT = 2./np.pi * np.arcsin( 2.* Sigma[0,1] / np.sqrt((1+2*Sigma[0,0])*(1+2*Sigma[1,1])))\n",
    "    return calT#, calTp\n",
    "'''\n",
    "\n",
    "def mathT(a, b, c, d):\n",
    "    return 2./np.pi * np.arcsin( 2.* b / np.sqrt((1+2*a)*(1+2*d)))\n",
    "\n",
    "def mathTp(a, b, c, d):\n",
    "    #det = a*c - b*d\n",
    "    auxMat = np.empty((2,2))\n",
    "    auxMat[0,0] = a\n",
    "    auxMat[0,1] = b\n",
    "    auxMat[1,0] = c\n",
    "    auxMat[1,1] = d\n",
    "    return 4./ np.pi * np.linalg.det(fractional_matrix_power(np.eye(2) + 2*auxMat, -1./2.))\n",
    "    #return 4./ np.pi / (np.linalg.det(np.eye(2) + 2*auxMat))**2."
   ]
  },
  {
   "cell_type": "markdown",
   "id": "5da07930",
   "metadata": {},
   "source": [
    "For the activation function ReLU $\\phi(x) = \\max(x, 0)$, we have:"
   ]
  },
  {
   "cell_type": "code",
   "execution_count": 30,
   "id": "c9eae3e1",
   "metadata": {},
   "outputs": [],
   "source": [
    "def mathT(a, b, c, d):\n",
    "    a = np.linalg.norm(a)\n",
    "    d = np.linalg.norm(d)\n",
    "    fact_or = b/np.sqrt(a*d)\n",
    "    output = np.sin(np.arccos(fact_or)) + (np.pi - np.arccos(fact_or))*fact_or\n",
    "    return 1./2./np.pi * np.sqrt(a*d) * output\n",
    "\n",
    "\n",
    "def mathTp(a, b, c, d):\n",
    "    a = np.linalg.norm(a)\n",
    "    d = np.linalg.norm(d)\n",
    "    return 1./2./np.pi * (np.pi - np.arccos(b/np.sqrt(a*d)))"
   ]
  },
  {
   "cell_type": "markdown",
   "id": "994cbfc9",
   "metadata": {},
   "source": [
    "The expression ${\\cal K}^\\ell$ indicates a set of function applied at each $\\ell$ layer. Therefore, the ${\\cal K}^{L+1}$ corresponds ${\\cal K}$.\n",
    "\n",
    "#### Computing NTK and NNGP Kernel\n",
    "\n",
    "Definition of the NNGP kernel ${\\cal K}$ and the tangent kernel ${\\cal \\Theta}$ using the Eqs. (S26, S27) and Eq. (S35)"
   ]
  },
  {
   "cell_type": "code",
   "execution_count": 31,
   "id": "4c48e43c",
   "metadata": {},
   "outputs": [],
   "source": [
    "def Kappa(arr1, arr2, l_index, sigma_w, sigma_b, n0):\n",
    "    if l_index == 1:\n",
    "        return np.dot(arr1,arr2)/n0*sigma_w**2. + sigma_b**2.\n",
    "    else:\n",
    "        T11 = Kappa(arr1, arr1, l_index-1, sigma_w, sigma_b, n0)\n",
    "        T12 = Kappa(arr1, arr2, l_index-1, sigma_w, sigma_b, n0)\n",
    "        T21 = T12\n",
    "        T22 = Kappa(arr2, arr2, l_index-1, sigma_w, sigma_b, n0)\n",
    "        return sigma_w**2.*mathT(T11, T12, T21, T22) + sigma_b**2.\n",
    "\n",
    "    \n",
    "    \n",
    "def Theta(arr1, arr2, l_index, sigma_w, sigma_b, n0):\n",
    "    if l_index == 1:\n",
    "        return np.dot(arr1,arr2)/n0*sigma_w**2. + sigma_b**2.\n",
    "    else:\n",
    "        T11 = Kappa(arr1, arr1, l_index-1, sigma_w, sigma_b, n0)\n",
    "        T12 = Kappa(arr1, arr2, l_index-1, sigma_w, sigma_b, n0)\n",
    "        T21 = T12\n",
    "        T22 = Kappa(arr2, arr2, l_index-1, sigma_w, sigma_b, n0)\n",
    "        return sigma_w**2.*mathTp(T11, T12, T21, T22)*Theta(arr1, arr2, l_index-1, sigma_w, sigma_b, n0)"
   ]
  },
  {
   "cell_type": "markdown",
   "id": "19f03338",
   "metadata": {},
   "source": [
    "## NNGP\n",
    "\n",
    "Writing the mean value and the variance of the output throughout training which converges to a Gaussian distribution from Eqs (S22) and (S23)"
   ]
  },
  {
   "cell_type": "code",
   "execution_count": 32,
   "id": "e8883c26",
   "metadata": {},
   "outputs": [],
   "source": [
    "from scipy.linalg import expm\n",
    "\n",
    "def distribNNGP(time, x, input_train, output_train, eta, n_layer, sigma_w, sigma_b, n0):\n",
    "    tdim = len(input_train)\n",
    "    Kxx = Kappa(x, x, n_layer+1, sigma_w, sigma_b, n0)\n",
    "    KxCalX = np.empty((tdim))\n",
    "    KCalXCalX = np.empty((tdim, tdim))\n",
    "    \n",
    "    for index, elem in enumerate(input_train):\n",
    "        KxCalX[index] = Kappa(x, elem, n_layer+1, sigma_w, sigma_b, n0)\n",
    "        for jndex in range(index,tdim):\n",
    "            KCalXCalX[index, jndex] = Kappa(elem, input_train[jndex], n_layer+1, sigma_w, sigma_b, n0)\n",
    "            KCalXCalX[jndex, index] = KCalXCalX[index, jndex]\n",
    "            \n",
    "    K_inverse = np.linalg.inv(KCalXCalX)\n",
    "    Aux = expm(-eta*KCalXCalX*time)\n",
    "    Aux1 = np.eye(tdim) - np.matmul(Aux,Aux)\n",
    "    Aux = np.eye(tdim) - Aux\n",
    "    #print(Aux, output_train)\n",
    "    mean = np.matmul(KxCalX, np.matmul(K_inverse, np.matmul(Aux, output_train)))\n",
    "    variance = Kxx - np.matmul(KxCalX, np.matmul(K_inverse, np.matmul(Aux1, KxCalX.T)))\n",
    "    \n",
    "    return mean, np.sqrt(variance)\n",
    "    "
   ]
  },
  {
   "cell_type": "markdown",
   "id": "8f0497e3",
   "metadata": {},
   "source": [
    "## NKT GP\n",
    "Using the Eqs. (14, 15)"
   ]
  },
  {
   "cell_type": "code",
   "execution_count": 33,
   "id": "8003593a",
   "metadata": {},
   "outputs": [],
   "source": [
    "def distribNKTgp(time, x, input_train, output_train, eta, n_layer, sigma_w, sigma_b, n0):\n",
    "    tdim = len(input_train)\n",
    "    Kxx = Kappa(x, x, n_layer+1, sigma_w, sigma_b, n0)\n",
    "    KxCalX = np.empty((tdim))\n",
    "    TxCalX = np.empty((tdim))\n",
    "    KCalXCalX = np.empty((tdim, tdim))\n",
    "    TCalXCalX = np.empty((tdim, tdim))\n",
    "    \n",
    "    for index, elem in enumerate(input_train):\n",
    "        KxCalX[index] = Kappa(x, elem, n_layer+1, sigma_w, sigma_b, n0)\n",
    "        TxCalX[index] = Theta(x, elem, n_layer+1, sigma_w, sigma_b, n0)\n",
    "        for jndex in range(index,tdim):\n",
    "            KCalXCalX[index, jndex] = Kappa(elem, input_train[jndex], n_layer+1, sigma_w, sigma_b, n0)\n",
    "            KCalXCalX[jndex, index] = KCalXCalX[index, jndex]\n",
    "            TCalXCalX[index, jndex] = Theta(elem, input_train[jndex], n_layer+1, sigma_w, sigma_b, n0)\n",
    "            TCalXCalX[jndex, index] = TCalXCalX[index, jndex]\n",
    "\n",
    "    T_inverse = np.linalg.inv(TCalXCalX)\n",
    "    Aux = np.eye(tdim) - expm(-eta*TCalXCalX*time)\n",
    "    \n",
    "    mean = np.matmul(TxCalX, np.matmul(T_inverse, np.matmul(Aux, output_train)))\n",
    "    variance = Kxx + np.matmul(TxCalX, np.matmul(T_inverse, np.matmul(Aux, np.matmul(KCalXCalX, np.matmul(Aux, np.matmul(T_inverse, TxCalX))))))\n",
    "    vaux = np.matmul(TxCalX, np.matmul(T_inverse, np.matmul(Aux, KxCalX)))\n",
    "    variance -= vaux + np.conj(vaux)\n",
    "    return mean, np.sqrt(variance)"
   ]
  },
  {
   "cell_type": "markdown",
   "id": "2b9a8b1c",
   "metadata": {},
   "source": [
    "## Experiment\n",
    "\n",
    "<span style=\"color:red;\">ATTENTION: using different activation function the training initial data can lead to a non valid value error, then, for the moment, relunch the code, in the case we select the tf.random.generator_array</span>\n",
    "\n",
    "<span style='color:purple;'>ATTENTION: instead, if you use the np.random.array, only the ${\\rm ReLU}$ activation function formulas converge.<br>\n",
    "<u>**IN THIS CASE, ALL WORK !!!**</u></span>"
   ]
  },
  {
   "cell_type": "code",
   "execution_count": 34,
   "id": "d2abd939",
   "metadata": {},
   "outputs": [],
   "source": [
    "Nin = 150\n",
    "Nout = 100\n",
    "\n",
    "xx1 = -1\n",
    "xx2 = 1\n",
    "\n",
    "def interp_np(_alpha):\n",
    "    condition1 = tf.logical_and(_alpha <= 1, _alpha >= 0)\n",
    "    condition2 = _alpha > 1\n",
    "    condition3 = _alpha < 0\n",
    "    \n",
    "    result = np.where(condition1, _alpha * xx1 + (1 - _alpha) * xx2, tf.where(condition2, xx1, xx2))\n",
    "    return result\n",
    "\n",
    "#print(x_train)CASE\n",
    "#sys.exit()\n",
    "\n",
    "sigma_w = np.sqrt(1.5)\n",
    "sigma_b = 1.\n",
    "Mu = 0.\n",
    "STD = 1.\n",
    "Nboot = 10\n",
    "depth = 3\n",
    "input_size = 1\n",
    "hidden_size = 32\n",
    "output_size = 1\n",
    "eta = 0.1\n",
    "n0 = 1\n",
    "\n",
    "'''\n",
    "xx1 = tf.constant(-1., shape=(Nin, 1, 1), dtype=tf.float32)\n",
    "xx2 = tf.constant(1., shape=(Nin, 1, 1), dtype=tf.float32)\n",
    "\n",
    "alpha_train = tf.random.uniform(shape=(Nin,1,1), minval=-2, maxval=3, dtype=tf.float32)\n",
    "#alpha_train = tf.constant([[[0]], [[1]]], shape=(2, 1, 1), dtype=tf.float32)\n",
    "x_train = interp(alpha_train)\n",
    "\n",
    "alpha_train_np = alpha_train.numpy()\n",
    "x_train_np = np.reshape(x_train.numpy(), (Nin,))\n",
    "\n",
    "xx1 = tf.constant(-1., shape=(Nout, 1, 1), dtype=tf.float32)\n",
    "xx2 = tf.constant(1., shape=(Nout, 1, 1), dtype=tf.float32)\n",
    "\n",
    "alpha_out = tf.random.uniform(shape=(Nout,1,1), minval=-2, maxval=3, dtype=tf.float32)\n",
    "x_out = interp(alpha_out)\n",
    "\n",
    "alpha_out_np = alpha_out.numpy()\n",
    "alpha_out_np = np.reshape(alpha_out_np, (Nout,))\n",
    "\n",
    "x_out_np = np.reshape(x_out.numpy(), (Nout,))\n",
    "'''\n",
    "\n",
    "alpha_train_np = np.random.uniform(-2, 3, Nin)\n",
    "#alpha_train = tf.constant([[[0]], [[1]]], shape=(2, 1, 1), dtype=tf.float32)\n",
    "x_train_np = interp_np(alpha_train_np)\n",
    "\n",
    "alpha_out_np = np.random.uniform(-2, 3, Nout)\n",
    "x_out = interp_np(alpha_out_np)\n",
    "\n",
    "#print(x_train_np)"
   ]
  },
  {
   "cell_type": "code",
   "execution_count": 35,
   "id": "9c17b594",
   "metadata": {},
   "outputs": [
    {
     "name": "stdout",
     "output_type": "stream",
     "text": [
      "-0.19999999999999996\n"
     ]
    }
   ],
   "source": [
    "#time = 90\n",
    "alpha_test = np.array([0.6])\n",
    "print(interp_np(alpha_test)[0])"
   ]
  },
  {
   "cell_type": "code",
   "execution_count": 36,
   "id": "e7d97e92",
   "metadata": {},
   "outputs": [
    {
     "name": "stdout",
     "output_type": "stream",
     "text": [
      "(-0.20000799744331224, 0.000822175321631991)\n"
     ]
    }
   ],
   "source": [
    "time = 1200000\n",
    "print(distribNKTgp(time, alpha_test, alpha_train_np, x_train_np, eta, depth, sigma_w, sigma_b, n0))"
   ]
  },
  {
   "cell_type": "code",
   "execution_count": 37,
   "id": "e60282fc",
   "metadata": {},
   "outputs": [
    {
     "name": "stdout",
     "output_type": "stream",
     "text": [
      "(-0.1998035599089235, nan)\n"
     ]
    },
    {
     "name": "stderr",
     "output_type": "stream",
     "text": [
      "/tmp/ipykernel_185416/136304387.py:23: RuntimeWarning: invalid value encountered in sqrt\n",
      "  return mean, np.sqrt(variance)\n"
     ]
    }
   ],
   "source": [
    "print(distribNNGP(time, alpha_test, alpha_train_np, x_train_np, eta, depth, sigma_w, sigma_b, n0))"
   ]
  },
  {
   "cell_type": "code",
   "execution_count": 38,
   "id": "bed53826",
   "metadata": {},
   "outputs": [
    {
     "data": {
      "image/png": "[encoded data removed]",
      "text/plain": [
       "<Figure size 1000x800 with 1 Axes>"
      ]
     },
     "metadata": {},
     "output_type": "display_data"
    }
   ],
   "source": [
    "from matplotlib.animation import FuncAnimation\n",
    "from IPython.display import display, clear_output\n",
    "\n",
    "tmax = 5000\n",
    "dtime = tmax / 100\n",
    "ttime = 0\n",
    "\n",
    "fig,ax=plt.subplots(1,1,figsize=(10,8))\n",
    "ax.set_ylabel(\"value\")\n",
    "ax.set_xlabel(\"time\")\n",
    "\n",
    "xvalues = []\n",
    "err_xval = []\n",
    "time_set = []\n",
    "\n",
    "def update(frame):\n",
    "    \n",
    "    global ttime\n",
    "    \n",
    "    mean, st_dd = distribNKTgp(ttime, alpha_test, alpha_train_np, x_train_np, eta, depth, sigma_w, sigma_b, n0)\n",
    "    xvalues.append(mean)\n",
    "    err_xval.append(st_dd)\n",
    "    time_set.append(ttime)\n",
    "    ttime += dtime\n",
    "    \n",
    "    ax.clear()   \n",
    "    ax.grid(True)\n",
    "    \n",
    "    ax.errorbar(np.array(time_set), np.array(xvalues), yerr=np.array(err_xval), fmt = '.', capsize=1)\n",
    "    ax.axhline(0.0,color='grey',linestyle='--')\n",
    "    \n",
    "    ax.set_ylabel(\"value\")\n",
    "    ax.set_xlabel(\"time\")\n",
    "\n",
    "\n",
    "animation = FuncAnimation(fig, update, frames=100)  # Update plot every 100 milliseconds\n",
    "\n",
    "\n",
    "for i in range(100):\n",
    "    animation._func(i)\n",
    "    display(fig)\n",
    "    clear_output(wait=True)\n",
    "\n",
    "#for i in tqdm(range(30), desc=\"Progress\", ncols=100):\n",
    "#    mean, st_dd = distribNKTgp(ttime, alpha_test, alpha_train_np, x_train_np, eta, depth, sigma_w, sigma_b, n0)\n",
    "    #print(mean)\n",
    "#    xvalues.append(mean)\n",
    "#    err_xval.append(st_dd)\n",
    "#    time_set.append(ttime)\n",
    "#    ttime += dtime\n"
   ]
  },
  {
   "cell_type": "code",
   "execution_count": 39,
   "id": "cf42054c",
   "metadata": {},
   "outputs": [
    {
     "data": {
      "image/png": "[encoded data removed]",
      "text/plain": [
       "<Figure size 640x480 with 1 Axes>"
      ]
     },
     "metadata": {},
     "output_type": "display_data"
    }
   ],
   "source": [
    "#print(xvalues)\n",
    "array_set = [time_set, xvalues, err_xval]\n",
    "\n",
    "# Create a mask to erase the first element of each array\n",
    "mask = [slice(0, None) for _ in array_set]\n",
    "# Apply the mask to the array set to erase the first element\n",
    "array_set = [array[mask_] for array, mask_ in zip(array_set, mask)]\n",
    "\n",
    "plt.errorbar(np.array(array_set[0]), np.array(array_set[1]), yerr=np.array(array_set[2]), fmt = '.', capsize=1)\n",
    "plt.show()"
   ]
  },
  {
   "cell_type": "code",
   "execution_count": null,
   "id": "06f60b18",
   "metadata": {},
   "outputs": [],
   "source": []
  }
 ],
 "metadata": {
  "kernelspec": {
   "display_name": "Python 3 (ipykernel)",
   "language": "python",
   "name": "python3"
  },
  "language_info": {
   "codemirror_mode": {
    "name": "ipython",
    "version": 3
   },
   "file_extension": ".py",
   "mimetype": "text/x-python",
   "name": "python",
   "nbconvert_exporter": "python",
   "pygments_lexer": "ipython3",
   "version": "3.10.12"
  }
 },
 "nbformat": 4,
 "nbformat_minor": 5
}
